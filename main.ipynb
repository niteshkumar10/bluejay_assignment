{
  "nbformat": 4,
  "nbformat_minor": 0,
  "metadata": {
    "colab": {
      "provenance": []
    },
    "kernelspec": {
      "name": "python3",
      "display_name": "Python 3"
    },
    "language_info": {
      "name": "python"
    }
  },
  "cells": [
    {
      "cell_type": "code",
      "source": [
        "# importing necessary header files\n",
        "import pandas as pd\n",
        "import numpy as np\n",
        "from datetime import datetime, timedelta"
      ],
      "metadata": {
        "id": "RrSiyS11Yk1j"
      },
      "execution_count": 1,
      "outputs": []
    },
    {
      "cell_type": "code",
      "source": [
        "# Reading dataset\n",
        "datapath='/content/drive/MyDrive/Colab_Notebooks/Bluejay/Assignment_Timecard.xlsx'\n",
        "data=pd.read_excel(datapath)"
      ],
      "metadata": {
        "id": "q9sz2G_LYBf8"
      },
      "execution_count": 2,
      "outputs": []
    },
    {
      "cell_type": "markdown",
      "source": [
        "### Employees who have worked for 7 consecutive days"
      ],
      "metadata": {
        "id": "lZfV4nOEv6m-"
      }
    },
    {
      "cell_type": "code",
      "source": [
        "def cons_days(d1,d2):\n",
        "  count=0\n",
        "  for i in range(len(d1)):\n",
        "    diff=d2[i].day-d1[i].day\n",
        "    if diff==1:\n",
        "      count=count+1\n",
        "      if count==7:\n",
        "        return True\n",
        "    else:\n",
        "      count=0\n",
        "  return False"
      ],
      "metadata": {
        "id": "ud0uXUXUpjdd"
      },
      "execution_count": 3,
      "outputs": []
    },
    {
      "cell_type": "code",
      "source": [
        "name=[]\n",
        "for i in data['Employee Name'].unique():\n",
        "  subdata=data[data['Employee Name']==i]\n",
        "  timein=pd.to_datetime(subdata['Time'])\n",
        "  timein=timein.dt.date.unique()\n",
        "  timeout=timein.copy()\n",
        "  timein=np.delete(timein,[0])\n",
        "  timeout=np.delete(timeout,[(len(timeout)-1)])\n",
        "  if(cons_days(timeout,timein)):\n",
        "    name.append((i,(subdata['Position ID'].unique())[0]))\n",
        "name"
      ],
      "metadata": {
        "colab": {
          "base_uri": "https://localhost:8080/"
        },
        "id": "g7QbgPTIdHTz",
        "outputId": "f8e284c4-442f-42da-c4f2-6a946a4fafb6"
      },
      "execution_count": 4,
      "outputs": [
        {
          "output_type": "execute_result",
          "data": {
            "text/plain": [
              "[('Sparks, KeWWeMh', 'WFS000101'),\n",
              " ('SiWgh, JaspreeM', 'WFS000424'),\n",
              " ('CEreira Jr, JEse', 'WFS000456'),\n",
              " ('GAeWdia, JAaW CarXEs', 'WFS000473')]"
            ]
          },
          "metadata": {},
          "execution_count": 4
        }
      ]
    },
    {
      "cell_type": "markdown",
      "source": [
        "### Less than 10 hours but more than 1 hours of time between shifts"
      ],
      "metadata": {
        "id": "9v3P3H_M6K18"
      }
    },
    {
      "cell_type": "code",
      "source": [
        "def check_duration(timein, timeout):\n",
        "  for (i,j) in zip(timein,timeout):\n",
        "    diff = i-j\n",
        "    diff=diff.seconds//3600\n",
        "    if 1 < diff and diff < 14:\n",
        "      return True\n",
        "  return False"
      ],
      "metadata": {
        "id": "efaaGKEf6WWK"
      },
      "execution_count": 5,
      "outputs": []
    },
    {
      "cell_type": "code",
      "source": [
        "name=[]\n",
        "for i in data['Employee Name'].unique():\n",
        "  subdata=data[data['Employee Name']==i]\n",
        "  timein=subdata['Time']\n",
        "  timeout=subdata['Time Out']\n",
        "  timein = timein[1:]\n",
        "  timeout= timeout[:-1]\n",
        "  if(check_duration(timein,timeout)):\n",
        "    name.append((i,(subdata['Position ID'].unique())[0]))\n",
        "name"
      ],
      "metadata": {
        "id": "3X5WIEcw6WLv",
        "colab": {
          "base_uri": "https://localhost:8080/"
        },
        "outputId": "6680683a-35e1-4d34-c0f2-e49ea1c25be2"
      },
      "execution_count": 6,
      "outputs": [
        {
          "output_type": "execute_result",
          "data": {
            "text/plain": [
              "[('REsaXiaWE, XAis', 'WFS000065'),\n",
              " ('Sparks, KeWWeMh', 'WFS000101'),\n",
              " ('GaXCes, EXias XEpez', 'WFS000127'),\n",
              " ('CaMaXaWE, CeghaW', 'WFS000153'),\n",
              " ('Arias, FeXipe', 'WFS000170'),\n",
              " ('GarWes, JAsMiW', 'WFS000181'),\n",
              " ('FeXix, XeEWeX', 'WFS000183'),\n",
              " ('HerCEsiXXE, PedrE', 'WFS000185'),\n",
              " ('Xee, XaCar', 'WFS000200'),\n",
              " ('SiWgh, MarAWpreeM', 'WFS000246'),\n",
              " ('De Xa Cerda, IgWaciE', 'WFS000318'),\n",
              " ('MraW, WiXXiaC Ha', 'WFS000345'),\n",
              " ('MAcker, CichaeX', 'WFS000360'),\n",
              " ('MaXeGi, ACirCasEAd', 'WFS000364'),\n",
              " ('PayaW, DaWieX', 'WFS000368'),\n",
              " ('VasqAez, AXfredE', 'WFS000391'),\n",
              " ('SavaWg, JEhW', 'WFS000393'),\n",
              " ('REdrigAez, XAis', 'WFS000412'),\n",
              " ('SiWgh, CaWpreeM', 'WFS000418'),\n",
              " ('SiWgh, JaspreeM', 'WFS000424'),\n",
              " ('PaXaciE, JEWaMhaW', 'WFS000434'),\n",
              " ('CercadE, SaAX', 'WFS000446'),\n",
              " ('CEreira Jr, JEse', 'WFS000456'),\n",
              " ('XiWW, JAsMiW', 'WFS000462'),\n",
              " ('CaXdEWadE, AXfEWsE', 'WFS000463'),\n",
              " ('PerkiWs, MarraWce', 'WFS000469'),\n",
              " ('GAeWdia, JAaW CarXEs', 'WFS000473'),\n",
              " ('CErMes, DEAgXas Farid', 'WFS000495'),\n",
              " ('CercadE, CrisMiaW', 'WFS000496'),\n",
              " ('ZaCEra, CigAeX', 'WFS000499'),\n",
              " ('CEMMa, Jessica', 'WFS000503'),\n",
              " ('ChaCErE, HEXger CarMiWez', 'WFS000509'),\n",
              " ('WiXXiaCs, MyrreXX', 'WFS000511'),\n",
              " ('XEpez WAWez, XAis', 'WFS000522'),\n",
              " ('DeXgadiXXE REdarMe, ChrisMiaW S', 'WFS000523'),\n",
              " ('FaGiaW CiraWda, JEse', 'WFS000530'),\n",
              " ('HaCiXMEW, DeaWMe DevEW', 'WFS000536'),\n",
              " ('HAWMer, ViWceWM De PaAX', 'WFS000538'),\n",
              " ('AXcEcer, ECar JesAs', 'WFS000541'),\n",
              " ('IWGEAa, JeffersEW', 'WFS000546'),\n",
              " ('REdrigAez, GraWdEW AWgeX', 'WFS000550'),\n",
              " ('EsMrada, JEse FeXix', 'WFS000552'),\n",
              " ('SMrickXaWd, REdWey EAgeWe', 'WFS000555'),\n",
              " ('RAvaXcaGa GaWAeXEs, DaWieX JesAs', 'WFS000556'),\n",
              " ('CharXes, EGadiah SEraccE Jr', 'WFS000566'),\n",
              " ('CAevas ZavaXa, JErge XAis', 'WFS000571'),\n",
              " ('XariEs XaWdaverde, XAis ErWesME', 'WFS000572'),\n",
              " ('CiGriaW DeXgadE, EXeWa S', 'WFS000574'),\n",
              " ('SaWchez, ArWAXfE', 'WFS000577'),\n",
              " ('GAMierrez, PedrE CigAeX', 'WFS000579'),\n",
              " ('ViXXa, AXfredE AieXXE', 'WFS000583'),\n",
              " ('ArCeWMa FXEres, JEWaMhaW', 'WFS000584'),\n",
              " ('XariEs, Cesar GiEvaWWi', 'WFS000587'),\n",
              " ('AGeX, WaMhaW REGerM PeWa', 'WFS000588')]"
            ]
          },
          "metadata": {},
          "execution_count": 6
        }
      ]
    },
    {
      "cell_type": "markdown",
      "source": [
        "### Employees who have worked more than 14 hours in a shift"
      ],
      "metadata": {
        "id": "k1mZJ77rwSEm"
      }
    },
    {
      "cell_type": "code",
      "source": [
        "def hourscount(timecard):\n",
        "  date_str = '14:00'\n",
        "  date_format = '%H:%M'\n",
        "  date_obj = datetime.strptime(date_str, date_format)\n",
        "  for i in timecard:\n",
        "    if(not pd.isna(i)):\n",
        "      worktime = datetime.strptime(str(i), date_format)\n",
        "      if worktime > date_obj:\n",
        "        return True\n",
        "  return False\n"
      ],
      "metadata": {
        "id": "vLNS8DYp2LiO"
      },
      "execution_count": 7,
      "outputs": []
    },
    {
      "cell_type": "code",
      "source": [
        "name=[]\n",
        "for i in data['Employee Name'].unique():\n",
        "  subdata=data[data['Employee Name']==i]\n",
        "  timecard=subdata['Timecard Hours (as Time)']\n",
        "  if(hourscount(timecard)):\n",
        "    name.append((i,(subdata['Position ID'].unique())[0]))\n",
        "name"
      ],
      "metadata": {
        "colab": {
          "base_uri": "https://localhost:8080/"
        },
        "id": "sauAK7nNqzzg",
        "outputId": "e3ea0054-db5b-408a-b957-c43dd3bb18a2"
      },
      "execution_count": 8,
      "outputs": [
        {
          "output_type": "execute_result",
          "data": {
            "text/plain": [
              "[('DeXgadiXXE REdarMe, ChrisMiaW S', 'WFS000523')]"
            ]
          },
          "metadata": {},
          "execution_count": 8
        }
      ]
    },
    {
      "cell_type": "code",
      "source": [],
      "metadata": {
        "id": "Na7NbejYxREe"
      },
      "execution_count": null,
      "outputs": []
    }
  ]
}